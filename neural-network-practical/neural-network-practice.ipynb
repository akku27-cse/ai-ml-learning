{
 "cells": [
  {
   "cell_type": "code",
   "execution_count": 1,
   "id": "1cdb480c-6a75-4f5e-afeb-9535426d8d80",
   "metadata": {},
   "outputs": [
    {
     "name": "stdout",
     "output_type": "stream",
     "text": [
      "hello\n"
     ]
    }
   ],
   "source": [
    "print('hello')"
   ]
  },
  {
   "cell_type": "markdown",
   "id": "385a175d-13b8-484d-a0f4-903f1573af24",
   "metadata": {},
   "source": [
    "# Creating data set\n",
    "* As the image is a collection of pixel values in matrix, we will create a simple dataset for the letters A, B, and C using binary matrices. These matrices represent pixel values of 5x6 grids for each letter."
   ]
  },
  {
   "cell_type": "code",
   "execution_count": 2,
   "id": "7db4220c-7321-49bc-807b-50caa5b6216c",
   "metadata": {},
   "outputs": [],
   "source": [
    "\n",
    "# A\n",
    "a =[0, 0, 1, 1, 0, 0,\n",
    "   0, 1, 0, 0, 1, 0,\n",
    "   1, 1, 1, 1, 1, 1,\n",
    "   1, 0, 0, 0, 0, 1,\n",
    "   1, 0, 0, 0, 0, 1]\n",
    "# B\n",
    "b =[0, 1, 1, 1, 1, 0,\n",
    "   0, 1, 0, 0, 1, 0,\n",
    "   0, 1, 1, 1, 1, 0,\n",
    "   0, 1, 0, 0, 1, 0,\n",
    "   0, 1, 1, 1, 1, 0]\n",
    "# C\n",
    "c =[0, 1, 1, 1, 1, 0,\n",
    "   0, 1, 0, 0, 0, 0,\n",
    "   0, 1, 0, 0, 0, 0,\n",
    "   0, 1, 0, 0, 0, 0,\n",
    "   0, 1, 1, 1, 1, 0]\n",
    "\n",
    "# Creating labels\n",
    "y =[[1, 0, 0],\n",
    "   [0, 1, 0],\n",
    "   [0, 0, 1]]"
   ]
  },
  {
   "cell_type": "markdown",
   "id": "a697caee-4065-4b5a-b738-4ac15100466a",
   "metadata": {},
   "source": [
    "# Visualizing the Dataset\n",
    "* To visualize the datasets, we can use Matplotlib to plot the images for each letter. This will give us a clear understanding of what the data looks like before feeding it into the neural network."
   ]
  },
  {
   "cell_type": "code",
   "execution_count": 10,
   "id": "8c1581ea-084f-4053-b7fa-70ec9a77c9c5",
   "metadata": {},
   "outputs": [
    {
     "data": {
      "image/png": "[encoded data removed]",
      "text/plain": [
       "<Figure size 640x480 with 1 Axes>"
      ]
     },
     "metadata": {},
     "output_type": "display_data"
    }
   ],
   "source": [
    "import numpy as np\n",
    "import matplotlib.pyplot as plt\n",
    "\n",
    "# visualizing the data, plotting A.\n",
    "plt.imshow(np.array(a).reshape(5, 6))\n",
    "# plt.imshow(np.array(b).reshape(5, 6))\n",
    "# plt.imshow(np.array(c).reshape(5, 6))\n",
    "plt.show()"
   ]
  },
  {
   "cell_type": "markdown",
   "id": "441acf94-e4e0-47b3-b87e-da5722af876a",
   "metadata": {},
   "source": [
    "# As the data set is in the form of list we will convert it into numpy array. \n",
    "* We convert the lists of pixel values and the corresponding labels into NumPy arrays to work with them efficiently in the neural network."
   ]
  },
  {
   "cell_type": "code",
   "execution_count": 11,
   "id": "cf78d259-a4a5-472b-9c59-d22b9871ca2d",
   "metadata": {},
   "outputs": [
    {
     "name": "stdout",
     "output_type": "stream",
     "text": [
      "[array([[0, 0, 1, 1, 0, 0, 0, 1, 0, 0, 1, 0, 1, 1, 1, 1, 1, 1, 1, 0, 0, 0,\n",
      "        0, 1, 1, 0, 0, 0, 0, 1]]), array([[0, 1, 1, 1, 1, 0, 0, 1, 0, 0, 1, 0, 0, 1, 1, 1, 1, 0, 0, 1, 0, 0,\n",
      "        1, 0, 0, 1, 1, 1, 1, 0]]), array([[0, 1, 1, 1, 1, 0, 0, 1, 0, 0, 0, 0, 0, 1, 0, 0, 0, 0, 0, 1, 0, 0,\n",
      "        0, 0, 0, 1, 1, 1, 1, 0]])] \n",
      "\n",
      " [[1 0 0]\n",
      " [0 1 0]\n",
      " [0 0 1]]\n"
     ]
    }
   ],
   "source": [
    "# converting data and labels into numpy array\n",
    "x =[np.array(a).reshape(1, 30), np.array(b).reshape(1, 30), \n",
    "                                np.array(c).reshape(1, 30)]\n",
    "y = np.array(y)\n",
    "# Printing data and labels\n",
    "print(x, \"\\n\\n\", y)"
   ]
  },
  {
   "cell_type": "code",
   "execution_count": 16,
   "id": "1de024fb-8b8a-4fdb-a3ca-0b80cd31e05d",
   "metadata": {},
   "outputs": [
    {
     "name": "stderr",
     "output_type": "stream",
     "text": [
      "The attention mask and the pad token id were not set. As a consequence, you may observe unexpected behavior. Please pass your input's `attention_mask` to obtain reliable results.\n",
      "Setting `pad_token_id` to `eos_token_id`:50256 for open-end generation.\n"
     ]
    },
    {
     "name": "stdout",
     "output_type": "stream",
     "text": [
      "Once upon a time in a jungle, there lived a child born to a single mother, and the offspring were born and raised in the jungle. In a few days, their entire family was slaughtered. The war ended by a military attack, with the\n"
     ]
    }
   ],
   "source": [
    "# Install dependencies\n",
    "# pip install transformers torch\n",
    "\n",
    "from transformers import GPT2LMHeadModel, GPT2Tokenizer\n",
    "import torch\n",
    "\n",
    "# Load pre-trained model and tokenizer\n",
    "model_name = \"gpt2\"\n",
    "tokenizer = GPT2Tokenizer.from_pretrained(model_name)\n",
    "model = GPT2LMHeadModel.from_pretrained(model_name)\n",
    "\n",
    "# Input prompt\n",
    "prompt = \"Once upon a time in a jungle, there lived a\"\n",
    "\n",
    "# Encode prompt\n",
    "input_ids = tokenizer.encode(prompt, return_tensors='pt')\n",
    "\n",
    "# Generate text\n",
    "output = model.generate(\n",
    "    input_ids,\n",
    "    max_length=50,\n",
    "    num_return_sequences=1,\n",
    "    do_sample=True,\n",
    "    top_k=50,\n",
    "    top_p=0.95,\n",
    "    temperature=1.0\n",
    ")\n",
    "\n",
    "# Decode and print result\n",
    "generated_text = tokenizer.decode(output[0], skip_special_tokens=True)\n",
    "print(generated_text)\n"
   ]
  },
  {
   "cell_type": "code",
   "execution_count": null,
   "id": "83fe8a58-636c-4039-90b6-ee0edc5faf5d",
   "metadata": {},
   "outputs": [],
   "source": []
  },
  {
   "cell_type": "code",
   "execution_count": null,
   "id": "a623fbcf",
   "metadata": {},
   "outputs": [],
   "source": []
  }
 ],
 "metadata": {
  "kernelspec": {
   "display_name": "Python 3 (ipykernel)",
   "language": "python",
   "name": "python3"
  },
  "language_info": {
   "codemirror_mode": {
    "name": "ipython",
    "version": 3
   },
   "file_extension": ".py",
   "mimetype": "text/x-python",
   "name": "python",
   "nbconvert_exporter": "python",
   "pygments_lexer": "ipython3",
   "version": "3.13.1"
  }
 },
 "nbformat": 4,
 "nbformat_minor": 5
}
